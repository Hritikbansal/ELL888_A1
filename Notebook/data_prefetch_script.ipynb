{
 "cells": [
  {
   "cell_type": "code",
   "execution_count": 2,
   "metadata": {},
   "outputs": [],
   "source": [
    "%matplotlib notebook\n",
    "import SimpleITK as sitk\n",
    "import numpy as np\n",
    "import matplotlib.pyplot as plt\n",
    "import os\n",
    "import seaborn as sns\n",
    "import pandas as pd\n",
    "from tqdm import tqdm_notebook as tqdm"
   ]
  },
  {
   "cell_type": "code",
   "execution_count": 3,
   "metadata": {},
   "outputs": [],
   "source": [
    "root_init = 'C:\\\\Users\\\\Chahat\\\\Desktop\\\\dl\\\\BRATS2015_Training\\\\BRATS2015_Training\\\\'"
   ]
  },
  {
   "cell_type": "code",
   "execution_count": 4,
   "metadata": {},
   "outputs": [],
   "source": [
    "def fetchData(root_init):\n",
    "    tums = [\"HGG\", \"LGG\"]\n",
    "    X_train = np.array([])\n",
    "    Y_train = np.array([])\n",
    "    i=0;j=0\n",
    "    for tum in tqdm(tums):\n",
    "        root = root_init + tum\n",
    "        for person in tqdm(os.listdir(root)):\n",
    "            indices = np.array([])\n",
    "            #for test in os.listdir(root+\"\\\\\"+person):\n",
    "            for test in os.listdir(os.path.join(root, person)):\n",
    "                if \"T1\" in test and not \"T1c\" in test:\n",
    "                    image_path = os.path.join(root, person, test, test + \".mha\")\n",
    "                    image_reader = sitk.ImageFileReader()\n",
    "                    image_reader.SetImageIO(\"MetaImageIO\")\n",
    "                    image_reader.SetFileName(image_path)\n",
    "                    image = image_reader.Execute()\n",
    "                    image = sitk.GetArrayFromImage(image)\n",
    "                    #image = image[:,40:215,30:205]\n",
    "                    image = image[:,40:220,30:210]\n",
    "                    #print(image.shape)\n",
    "\n",
    "                    image_means = image.sum(axis = 1).sum(axis = 1) / (240 * 240)\n",
    "                    indices = image_means>0\n",
    "                    image = image[indices]\n",
    "                    #print(image.shape)\n",
    "                    #getting the maximum element of the \n",
    "                    max_array= np.amax(image, axis=1)\n",
    "                    max_array= np.amax(max_array, axis=1)\n",
    "                    max_array= np.reshape(max_array, (-1, 1, 1))\n",
    "                    image= np.divide(image, max_array)\n",
    "                    #image_means = image_means / image_means.max()\n",
    "                    if i==0:\n",
    "                        X_train= image\n",
    "                        i=i+1\n",
    "                    else:\n",
    "                        X_train= np.concatenate((X_train, image), axis=0)\n",
    "\n",
    "                if \"OT\" in test:\n",
    "                    image_path = os.path.join(root, person, test, test + \".mha\")\n",
    "                    image_reader = sitk.ImageFileReader()\n",
    "                    image_reader.SetImageIO(\"MetaImageIO\")\n",
    "                    image_reader.SetFileName(image_path)\n",
    "                    gt = image_reader.Execute()\n",
    "                    gt = sitk.GetArrayFromImage(gt)\n",
    "                    gt = gt[indices]\n",
    "                    gt = gt[:,40:215,30:205]\n",
    "                    #print(gt.shape)\n",
    "                    if j==0:\n",
    "                        Y_train= gt\n",
    "                        j=j+1\n",
    "                    else:\n",
    "                        Y_train= np.concatenate((Y_train, gt), axis=0)            \n",
    "\n",
    "\n",
    "    S_train = Y_train.sum(axis = 1).sum(axis = 1) > 0 \n",
    "    return X_train, Y_train, S_train"
   ]
  },
  {
   "cell_type": "code",
   "execution_count": 5,
   "metadata": {},
   "outputs": [
    {
     "data": {
      "application/vnd.jupyter.widget-view+json": {
       "model_id": "4634e4e03a7d4ee4aee7215f3fe38464",
       "version_major": 2,
       "version_minor": 0
      },
      "text/plain": [
       "HBox(children=(IntProgress(value=0, max=2), HTML(value='')))"
      ]
     },
     "metadata": {},
     "output_type": "display_data"
    },
    {
     "data": {
      "application/vnd.jupyter.widget-view+json": {
       "model_id": "37619ffdbe69406ea226ab100b8ea833",
       "version_major": 2,
       "version_minor": 0
      },
      "text/plain": [
       "HBox(children=(IntProgress(value=0, max=220), HTML(value='')))"
      ]
     },
     "metadata": {},
     "output_type": "display_data"
    },
    {
     "name": "stdout",
     "output_type": "stream",
     "text": [
      "\n"
     ]
    },
    {
     "ename": "SystemError",
     "evalue": "<built-in function ImageFileReader_Execute> returned a result with an error set",
     "output_type": "error",
     "traceback": [
      "\u001b[1;31m---------------------------------------------------------------------------\u001b[0m",
      "\u001b[1;31mKeyboardInterrupt\u001b[0m                         Traceback (most recent call last)",
      "\u001b[1;32m~\\Anaconda3\\lib\\site-packages\\SimpleITK\\SimpleITK.py\u001b[0m in \u001b[0;36m<lambda>\u001b[1;34m(self, name, value)\u001b[0m\n\u001b[0;32m   3708\u001b[0m     \u001b[0m__swig_setmethods__\u001b[0m \u001b[1;33m=\u001b[0m \u001b[1;33m{\u001b[0m\u001b[1;33m}\u001b[0m\u001b[1;33m\u001b[0m\u001b[1;33m\u001b[0m\u001b[0m\n\u001b[1;32m-> 3709\u001b[1;33m     \u001b[0m__setattr__\u001b[0m \u001b[1;33m=\u001b[0m \u001b[1;32mlambda\u001b[0m \u001b[0mself\u001b[0m\u001b[1;33m,\u001b[0m \u001b[0mname\u001b[0m\u001b[1;33m,\u001b[0m \u001b[0mvalue\u001b[0m\u001b[1;33m:\u001b[0m \u001b[0m_swig_setattr\u001b[0m\u001b[1;33m(\u001b[0m\u001b[0mself\u001b[0m\u001b[1;33m,\u001b[0m \u001b[0mImage\u001b[0m\u001b[1;33m,\u001b[0m \u001b[0mname\u001b[0m\u001b[1;33m,\u001b[0m \u001b[0mvalue\u001b[0m\u001b[1;33m)\u001b[0m\u001b[1;33m\u001b[0m\u001b[1;33m\u001b[0m\u001b[0m\n\u001b[0m\u001b[0;32m   3710\u001b[0m     \u001b[0m__swig_getmethods__\u001b[0m \u001b[1;33m=\u001b[0m \u001b[1;33m{\u001b[0m\u001b[1;33m}\u001b[0m\u001b[1;33m\u001b[0m\u001b[1;33m\u001b[0m\u001b[0m\n",
      "\u001b[1;31mKeyboardInterrupt\u001b[0m: ",
      "\nThe above exception was the direct cause of the following exception:\n",
      "\u001b[1;31mSystemError\u001b[0m                               Traceback (most recent call last)",
      "\u001b[1;32m<ipython-input-5-1e746f515e1c>\u001b[0m in \u001b[0;36m<module>\u001b[1;34m\u001b[0m\n\u001b[1;32m----> 1\u001b[1;33m \u001b[0mx\u001b[0m\u001b[1;33m,\u001b[0m\u001b[0my\u001b[0m\u001b[1;33m,\u001b[0m\u001b[0ms\u001b[0m \u001b[1;33m=\u001b[0m \u001b[0mfetchData\u001b[0m\u001b[1;33m(\u001b[0m\u001b[0mroot_init\u001b[0m\u001b[1;33m)\u001b[0m\u001b[1;33m\u001b[0m\u001b[1;33m\u001b[0m\u001b[0m\n\u001b[0m",
      "\u001b[1;32m<ipython-input-4-634b661819a8>\u001b[0m in \u001b[0;36mfetchData\u001b[1;34m(root_init)\u001b[0m\n\u001b[0;32m     15\u001b[0m                     \u001b[0mimage_reader\u001b[0m\u001b[1;33m.\u001b[0m\u001b[0mSetImageIO\u001b[0m\u001b[1;33m(\u001b[0m\u001b[1;34m\"MetaImageIO\"\u001b[0m\u001b[1;33m)\u001b[0m\u001b[1;33m\u001b[0m\u001b[1;33m\u001b[0m\u001b[0m\n\u001b[0;32m     16\u001b[0m                     \u001b[0mimage_reader\u001b[0m\u001b[1;33m.\u001b[0m\u001b[0mSetFileName\u001b[0m\u001b[1;33m(\u001b[0m\u001b[0mimage_path\u001b[0m\u001b[1;33m)\u001b[0m\u001b[1;33m\u001b[0m\u001b[1;33m\u001b[0m\u001b[0m\n\u001b[1;32m---> 17\u001b[1;33m                     \u001b[0mimage\u001b[0m \u001b[1;33m=\u001b[0m \u001b[0mimage_reader\u001b[0m\u001b[1;33m.\u001b[0m\u001b[0mExecute\u001b[0m\u001b[1;33m(\u001b[0m\u001b[1;33m)\u001b[0m\u001b[1;33m\u001b[0m\u001b[1;33m\u001b[0m\u001b[0m\n\u001b[0m\u001b[0;32m     18\u001b[0m                     \u001b[0mimage\u001b[0m \u001b[1;33m=\u001b[0m \u001b[0msitk\u001b[0m\u001b[1;33m.\u001b[0m\u001b[0mGetArrayFromImage\u001b[0m\u001b[1;33m(\u001b[0m\u001b[0mimage\u001b[0m\u001b[1;33m)\u001b[0m\u001b[1;33m\u001b[0m\u001b[1;33m\u001b[0m\u001b[0m\n\u001b[0;32m     19\u001b[0m                     \u001b[0mimage\u001b[0m \u001b[1;33m=\u001b[0m \u001b[0mimage\u001b[0m\u001b[1;33m[\u001b[0m\u001b[1;33m:\u001b[0m\u001b[1;33m,\u001b[0m\u001b[1;36m40\u001b[0m\u001b[1;33m:\u001b[0m\u001b[1;36m215\u001b[0m\u001b[1;33m,\u001b[0m\u001b[1;36m30\u001b[0m\u001b[1;33m:\u001b[0m\u001b[1;36m205\u001b[0m\u001b[1;33m]\u001b[0m\u001b[1;33m\u001b[0m\u001b[1;33m\u001b[0m\u001b[0m\n",
      "\u001b[1;32m~\\Anaconda3\\lib\\site-packages\\SimpleITK\\SimpleITK.py\u001b[0m in \u001b[0;36mExecute\u001b[1;34m(self)\u001b[0m\n\u001b[0;32m   8652\u001b[0m \u001b[1;33m\u001b[0m\u001b[0m\n\u001b[0;32m   8653\u001b[0m         \"\"\"\n\u001b[1;32m-> 8654\u001b[1;33m         \u001b[1;32mreturn\u001b[0m \u001b[0m_SimpleITK\u001b[0m\u001b[1;33m.\u001b[0m\u001b[0mImageFileReader_Execute\u001b[0m\u001b[1;33m(\u001b[0m\u001b[0mself\u001b[0m\u001b[1;33m)\u001b[0m\u001b[1;33m\u001b[0m\u001b[1;33m\u001b[0m\u001b[0m\n\u001b[0m\u001b[0;32m   8655\u001b[0m \u001b[1;33m\u001b[0m\u001b[0m\n\u001b[0;32m   8656\u001b[0m \u001b[1;33m\u001b[0m\u001b[0m\n",
      "\u001b[1;31mSystemError\u001b[0m: <built-in function ImageFileReader_Execute> returned a result with an error set"
     ]
    }
   ],
   "source": [
    "x,y,s = fetchData(root_init)"
   ]
  },
  {
   "cell_type": "code",
   "execution_count": 55,
   "metadata": {},
   "outputs": [
    {
     "name": "stdout",
     "output_type": "stream",
     "text": [
      "(2701, 175, 175)\n",
      "(2701, 175, 175)\n",
      "(2701,)\n"
     ]
    }
   ],
   "source": [
    "print(x.shape)\n",
    "print(y.shape)\n",
    "print(s.shape)"
   ]
  },
  {
   "cell_type": "code",
   "execution_count": 56,
   "metadata": {},
   "outputs": [],
   "source": [
    "root = \"C:\\\\Users\\\\Chahat\\\\Desktop\\\\dl\\\\data\"\n",
    "np.save(os.path.join(root, \"x_train.npy\"), x)\n",
    "np.save(os.path.join(root, \"y_train.npy\"), y)\n",
    "np.save(os.path.join(root, \"s_train.npy\"), s)"
   ]
  },
  {
   "cell_type": "code",
   "execution_count": null,
   "metadata": {},
   "outputs": [],
   "source": []
  }
 ],
 "metadata": {
  "kernelspec": {
   "display_name": "Python 3",
   "language": "python",
   "name": "python3"
  },
  "language_info": {
   "codemirror_mode": {
    "name": "ipython",
    "version": 3
   },
   "file_extension": ".py",
   "mimetype": "text/x-python",
   "name": "python",
   "nbconvert_exporter": "python",
   "pygments_lexer": "ipython3",
   "version": "3.7.1"
  }
 },
 "nbformat": 4,
 "nbformat_minor": 2
}
