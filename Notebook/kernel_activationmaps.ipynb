{
  "cells": [
    {
      "metadata": {
        "_uuid": "8f2839f25d086af736a60e9eeb907d3b93b6e0e5",
        "_cell_guid": "b1076dfc-b9ad-4769-8c92-a6c4dae69d19",
        "trusted": true
      },
      "cell_type": "code",
      "source": "from keras.models import *\nfrom keras.layers import *\nfrom keras.callbacks import EarlyStopping\nfrom sklearn.model_selection import train_test_split\nimport numpy as np\nimport pandas as pd\nimport os\nfrom sklearn.metrics import *\nimport keras.activations",
      "execution_count": 1,
      "outputs": [
        {
          "output_type": "stream",
          "text": "Using TensorFlow backend.\n",
          "name": "stderr"
        }
      ]
    },
    {
      "metadata": {
        "_cell_guid": "79c7e3d0-c299-4dcb-8224-4455121ee9b0",
        "_uuid": "d629ff2d2480ee46fbb7e2d37f6b5fab8052498a",
        "trusted": true
      },
      "cell_type": "code",
      "source": "epsilon=0.00000001",
      "execution_count": 2,
      "outputs": []
    },
    {
      "metadata": {
        "trusted": true,
        "_uuid": "0c5578d1a13ebf78451f584db802faa66abe2abb"
      },
      "cell_type": "code",
      "source": "root=\"../input/data/data/\"\nprint(os.listdir(root))",
      "execution_count": 3,
      "outputs": [
        {
          "output_type": "stream",
          "text": "['x_train6.npy', 'x_train3.npy', 's_train1.npy', 's_train4.npy', 's_train2.npy', 'x_train1.npy', 'x_train4.npy', 'x_train2.npy', 's_train6.npy', 'x_train5.npy', 's_train3.npy', 's_train5.npy']\n",
          "name": "stdout"
        }
      ]
    },
    {
      "metadata": {
        "trusted": true,
        "_uuid": "2a8f07e97fa2b47682920b55e4c115689c464e1b"
      },
      "cell_type": "code",
      "source": "x=[]\ns=[]\nfor i in range(1,7):\n    x_tmp=np.load(root+'x_train'+str(i)+'.npy')\n    s_tmp=np.load(root+'s_train'+str(i)+'.npy')\n    x.append(x_tmp)\n    s.append(s_tmp)",
      "execution_count": 4,
      "outputs": []
    },
    {
      "metadata": {
        "trusted": true,
        "_uuid": "bf6b4d97cc3eea1520582ecad2503f5c69fccb0f"
      },
      "cell_type": "code",
      "source": "len(x[5])",
      "execution_count": 5,
      "outputs": [
        {
          "output_type": "execute_result",
          "execution_count": 5,
          "data": {
            "text/plain": "3240"
          },
          "metadata": {}
        }
      ]
    },
    {
      "metadata": {
        "trusted": true,
        "_uuid": "576b0b9e0e947a8dfd688a34fd7fd5f27e38b402"
      },
      "cell_type": "code",
      "source": "for i in range(1,6):\n    x[0]=np.concatenate((x[0],x[i]))\nprint(x[0].shape)",
      "execution_count": 6,
      "outputs": [
        {
          "output_type": "stream",
          "text": "(16434, 180, 180)\n",
          "name": "stdout"
        }
      ]
    },
    {
      "metadata": {
        "trusted": true,
        "_uuid": "46a77dd02c69e2646c33b03841b14f21ac1c4cb2"
      },
      "cell_type": "code",
      "source": "for i in range(1, 6):\n    s[0]= np.concatenate((s[0], s[i]))\nprint(s[0].shape)",
      "execution_count": 7,
      "outputs": [
        {
          "output_type": "stream",
          "text": "(16434,)\n",
          "name": "stdout"
        }
      ]
    },
    {
      "metadata": {
        "trusted": true,
        "_uuid": "56131816ad35cda881aefd3cce515cecde87e87f"
      },
      "cell_type": "code",
      "source": "x_train,x_val,s_train,s_val=train_test_split(x[0],s[0],test_size=0.3,random_state=42)",
      "execution_count": 8,
      "outputs": []
    },
    {
      "metadata": {
        "trusted": true,
        "_uuid": "a726ae83c82f616ac999700820ed2d386e6362a4"
      },
      "cell_type": "code",
      "source": "mean=np.mean(x_train,axis=0)\nstd=np.std(x_train,axis=0)\nx_train=(x_train-mean)/(std+epsilon)\nx_val=(x_val-mean)/(std+epsilon)\n\nx_train=np.expand_dims(x_train,axis=3)\nx_val=np.expand_dims(x_val,axis=3)\ns_train=np.expand_dims(s_train,axis=1)\ns_val=np.expand_dims(s_val,axis=1)\nprint(x_train.shape)\nprint(x_val.shape)\nprint(s_train.shape)\nprint(s_val.shape)",
      "execution_count": 9,
      "outputs": [
        {
          "output_type": "stream",
          "text": "(11503, 180, 180, 1)\n(4931, 180, 180, 1)\n(11503, 1)\n(4931, 1)\n",
          "name": "stdout"
        }
      ]
    },
    {
      "metadata": {
        "trusted": true,
        "_uuid": "25ebfb3a747d8488b0ac83b364e0f2936e820704"
      },
      "cell_type": "code",
      "source": "def CNN_model(input_shape):\n    x_in=Input(input_shape)\n    out=Conv2D(4,(9,9),strides=(2,2))(x_in)\n    out=MaxPool2D(strides=(1,1))(out)\n    out=Activation('relu')(out)\n    out=Conv2D(16,(7,7),strides=(2,2))(out)\n    out= MaxPool2D(strides=(1, 1))(out) #39, 39, 16\n    out= Activation('relu')(out) \n    out= Conv2D(32, (5, 5), strides= (2, 2))(out) #18,18 32\n    out= MaxPool2D(strides=(1, 1))(out) #17, 17, 32\n    out= Activation('relu')(out) \n    out= Conv2D(64, (5, 5), activation='relu', strides=(2, 2))(out) #7, 7, 64\n    out=Flatten()(out)\n    out=Dense(2048,activation='relu')(out)\n    out=Dense(1024,activation='relu')(out)\n    out= Dense(512, activation='relu')(out)\n    out= Dense(64, activation='relu')(out)\n    out= Dense(10, activation='relu')(out)\n    out= Dense(1, activation='sigmoid')(out)\n    \n    return Model(inputs=x_in,outputs=out)",
      "execution_count": 10,
      "outputs": []
    },
    {
      "metadata": {
        "trusted": true,
        "_uuid": "26f55f53164d7c612f6039a3a07a95e6401cae85"
      },
      "cell_type": "code",
      "source": "model=CNN_model((180,180,1))\nmodel.compile(optimizer='Nadam',loss='binary_crossentropy',metrics=['accuracy'])\nmodel.fit(x=x_train,y=s_train,batch_size=512,epochs=15,verbose=True,validation_data=(x_val,s_val))\nmodel.save('saved_model.h5')",
      "execution_count": 11,
      "outputs": [
        {
          "output_type": "stream",
          "text": "Train on 11503 samples, validate on 4931 samples\nEpoch 1/15\n11503/11503 [==============================] - 14s 1ms/step - loss: 0.6760 - acc: 0.7921 - val_loss: 0.4779 - val_acc: 0.8118\nEpoch 2/15\n11503/11503 [==============================] - 10s 845us/step - loss: 0.4504 - acc: 0.8129 - val_loss: 0.4516 - val_acc: 0.8118\nEpoch 3/15\n11503/11503 [==============================] - 10s 875us/step - loss: 0.4635 - acc: 0.8129 - val_loss: 0.4138 - val_acc: 0.8118\nEpoch 4/15\n11503/11503 [==============================] - 10s 852us/step - loss: 0.3862 - acc: 0.8130 - val_loss: 0.3700 - val_acc: 0.8128\nEpoch 5/15\n11503/11503 [==============================] - 10s 843us/step - loss: 0.3714 - acc: 0.8164 - val_loss: 0.3519 - val_acc: 0.8144\nEpoch 6/15\n11503/11503 [==============================] - 10s 841us/step - loss: 0.3447 - acc: 0.8378 - val_loss: 0.3376 - val_acc: 0.8380\nEpoch 7/15\n11503/11503 [==============================] - 10s 843us/step - loss: 0.3131 - acc: 0.8527 - val_loss: 0.3012 - val_acc: 0.8584\nEpoch 8/15\n11503/11503 [==============================] - 10s 879us/step - loss: 0.2886 - acc: 0.8679 - val_loss: 0.2689 - val_acc: 0.8737\nEpoch 9/15\n11503/11503 [==============================] - 10s 851us/step - loss: 0.2460 - acc: 0.8856 - val_loss: 0.2729 - val_acc: 0.8787\nEpoch 10/15\n11503/11503 [==============================] - 10s 846us/step - loss: 0.2234 - acc: 0.9039 - val_loss: 0.1964 - val_acc: 0.9237\nEpoch 11/15\n11503/11503 [==============================] - 10s 842us/step - loss: 0.2119 - acc: 0.9117 - val_loss: 0.2430 - val_acc: 0.8893\nEpoch 12/15\n11503/11503 [==============================] - 10s 835us/step - loss: 0.1944 - acc: 0.9170 - val_loss: 0.1914 - val_acc: 0.9173\nEpoch 13/15\n11503/11503 [==============================] - 10s 835us/step - loss: 0.1543 - acc: 0.9358 - val_loss: 0.1524 - val_acc: 0.9386\nEpoch 14/15\n11503/11503 [==============================] - 10s 874us/step - loss: 0.1177 - acc: 0.9535 - val_loss: 0.1218 - val_acc: 0.9554\nEpoch 15/15\n11503/11503 [==============================] - 10s 858us/step - loss: 0.0712 - acc: 0.9716 - val_loss: 0.1468 - val_acc: 0.9479\n",
          "name": "stdout"
        }
      ]
    },
    {
      "metadata": {
        "trusted": true,
        "_uuid": "3217824fa965c22d7d7e5f0beae00e9581a465c7"
      },
      "cell_type": "code",
      "source": "predictions =model.predict(x_val)",
      "execution_count": 13,
      "outputs": []
    },
    {
      "metadata": {
        "trusted": true,
        "_uuid": "29db70bde0bd8a0680d7415ace2ef0ed4fc0fbd1"
      },
      "cell_type": "code",
      "source": "from sklearn.metrics import f1_score, accuracy_score, recall_score, roc_curve",
      "execution_count": 14,
      "outputs": []
    },
    {
      "metadata": {
        "trusted": true,
        "_uuid": "1a27955df90d4047565d9584861767d2aff31f3a"
      },
      "cell_type": "code",
      "source": "predictions= predictions>=0.5",
      "execution_count": 15,
      "outputs": []
    },
    {
      "metadata": {
        "trusted": true,
        "_uuid": "5fb67b5a951ab75a1396a34d5564b7d298700c19"
      },
      "cell_type": "code",
      "source": "accuracy_score = accuracy_score(s_val, predictions)\nrecall_score= recall_score(s_val, predictions)\nf1_score=f1_score(s_val, predictions)\nprint(accuracy_score)\nprint(recall_score)\nprint(f1_score)",
      "execution_count": 16,
      "outputs": [
        {
          "output_type": "stream",
          "text": "0.94788075441087\n0.985261054209343\n0.9684468999386127\n",
          "name": "stdout"
        }
      ]
    },
    {
      "metadata": {
        "trusted": true,
        "scrolled": false,
        "_uuid": "ba187ca43926b783ef106914947b98ab75cbb84e"
      },
      "cell_type": "code",
      "source": "model.summary()",
      "execution_count": 17,
      "outputs": [
        {
          "output_type": "stream",
          "text": "_________________________________________________________________\nLayer (type)                 Output Shape              Param #   \n=================================================================\ninput_1 (InputLayer)         (None, 180, 180, 1)       0         \n_________________________________________________________________\nconv2d_1 (Conv2D)            (None, 86, 86, 4)         328       \n_________________________________________________________________\nmax_pooling2d_1 (MaxPooling2 (None, 85, 85, 4)         0         \n_________________________________________________________________\nactivation_1 (Activation)    (None, 85, 85, 4)         0         \n_________________________________________________________________\nconv2d_2 (Conv2D)            (None, 40, 40, 16)        3152      \n_________________________________________________________________\nmax_pooling2d_2 (MaxPooling2 (None, 39, 39, 16)        0         \n_________________________________________________________________\nactivation_2 (Activation)    (None, 39, 39, 16)        0         \n_________________________________________________________________\nconv2d_3 (Conv2D)            (None, 18, 18, 32)        12832     \n_________________________________________________________________\nmax_pooling2d_3 (MaxPooling2 (None, 17, 17, 32)        0         \n_________________________________________________________________\nactivation_3 (Activation)    (None, 17, 17, 32)        0         \n_________________________________________________________________\nconv2d_4 (Conv2D)            (None, 7, 7, 64)          51264     \n_________________________________________________________________\nflatten_1 (Flatten)          (None, 3136)              0         \n_________________________________________________________________\ndense_1 (Dense)              (None, 2048)              6424576   \n_________________________________________________________________\ndense_2 (Dense)              (None, 1024)              2098176   \n_________________________________________________________________\ndense_3 (Dense)              (None, 512)               524800    \n_________________________________________________________________\ndense_4 (Dense)              (None, 64)                32832     \n_________________________________________________________________\ndense_5 (Dense)              (None, 10)                650       \n_________________________________________________________________\ndense_6 (Dense)              (None, 1)                 11        \n=================================================================\nTotal params: 9,148,621\nTrainable params: 9,148,621\nNon-trainable params: 0\n_________________________________________________________________\n",
          "name": "stdout"
        }
      ]
    },
    {
      "metadata": {
        "trusted": true,
        "_uuid": "90798faf354161814004af0b535c571522f10f50"
      },
      "cell_type": "code",
      "source": "from PIL import Image\nimport matplotlib.pyplot as plt",
      "execution_count": 93,
      "outputs": []
    },
    {
      "metadata": {
        "trusted": true,
        "_uuid": "e31ffecd54d15690ab45348cc3899b1dd65ec4aa"
      },
      "cell_type": "code",
      "source": "list_layerweights=[layer.get_weights() for layer in model.layers[:]]\nlist_layernames=[layer.name for layer in model.layers[:]]\nprint(list_layernames)",
      "execution_count": 139,
      "outputs": [
        {
          "output_type": "stream",
          "text": "['input_1', 'conv2d_1', 'max_pooling2d_1', 'activation_1', 'conv2d_2', 'max_pooling2d_2', 'activation_2', 'conv2d_3', 'max_pooling2d_3', 'activation_3', 'conv2d_4', 'flatten_1', 'dense_1', 'dense_2', 'dense_3', 'dense_4', 'dense_5', 'dense_6']\n",
          "name": "stdout"
        }
      ]
    },
    {
      "metadata": {
        "trusted": true,
        "_uuid": "6162f072a17dacbe2ad1011489b5f32816fd104f"
      },
      "cell_type": "code",
      "source": "# Colormaps for layer1\n# Layer has 16 filters\n\nlayer_weight=list_layerweights[1][0]  # size is 2. One for filter and other for bais. we take filter only\nplt.figure()\nfor i in range(0,4):\n    plt.subplot(2,2,i+1)\n    t=layer_weight[:,:,:,i]\n    plt.imshow(t[:,:,0])\n    if(i>0):\n        plt.axis('off')",
      "execution_count": 151,
      "outputs": [
        {
          "output_type": "display_data",
          "data": {
            "text/plain": "<Figure size 432x288 with 4 Axes>",
            "image/png": "[encoded data removed]"
          },
          "metadata": {}
        }
      ]
    },
    {
      "metadata": {
        "trusted": true,
        "_uuid": "2b0fdb107b566587a6fa003b9a4f799d1d8bc8d4"
      },
      "cell_type": "code",
      "source": "# Colormaps for layer 4\n# Layer has 16 filters\n\nlayer_weight=list_layerweights[4][0]  \nplt.figure()\n\nfor i in range(0,16):\n    plt.subplot(4,4,i+1)\n    t=layer_weight[:,:,:,i]\n    plt.imshow(t[:,:,0])\n    if(i>0):\n        plt.axis('off')",
      "execution_count": 152,
      "outputs": [
        {
          "output_type": "display_data",
          "data": {
            "text/plain": "<Figure size 432x288 with 16 Axes>",
            "image/png": "[encoded data removed]"
          },
          "metadata": {}
        }
      ]
    },
    {
      "metadata": {
        "trusted": true,
        "_uuid": "43072a11b421f2e724c65fabe785b7b53df30855"
      },
      "cell_type": "code",
      "source": "# Colormaps for layer 7\n# Layer has 32 filters\n\nlayer_weight=list_layerweights[7][0]  \nplt.figure()\n\nfor i in range(0,32):\n    plt.subplot(8,4,i+1)\n    t=layer_weight[:,:,:,i]\n    plt.imshow(t[:,:,0])\n    if(i>0):\n        plt.axis('off')",
      "execution_count": 153,
      "outputs": [
        {
          "output_type": "display_data",
          "data": {
            "text/plain": "<Figure size 432x288 with 32 Axes>",
            "image/png": "[encoded data removed]"
          },
          "metadata": {}
        }
      ]
    },
    {
      "metadata": {
        "trusted": true,
        "_uuid": "06d0bee0f574b9a1867b9352876cf9efa7eadaad"
      },
      "cell_type": "code",
      "source": "",
      "execution_count": null,
      "outputs": []
    }
  ],
  "metadata": {
    "kernelspec": {
      "display_name": "Python 3",
      "language": "python",
      "name": "python3"
    },
    "language_info": {
      "name": "python",
      "version": "3.6.6",
      "mimetype": "text/x-python",
      "codemirror_mode": {
        "name": "ipython",
        "version": 3
      },
      "pygments_lexer": "ipython3",
      "nbconvert_exporter": "python",
      "file_extension": ".py"
    }
  },
  "nbformat": 4,
  "nbformat_minor": 1
}